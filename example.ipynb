{
 "cells": [
  {
   "cell_type": "code",
   "execution_count": 1,
   "metadata": {
    "pycharm": {
     "is_executing": false
    },
    "scrolled": true
   },
   "outputs": [],
   "source": [
    "import matplotlib.pyplot as plt\n",
    "import seaborn as sns"
   ]
  },
  {
   "cell_type": "code",
   "execution_count": 2,
   "metadata": {
    "pycharm": {
     "is_executing": false
    }
   },
   "outputs": [],
   "source": [
    "from news_classification.news_topic_text_classifier import news_topic_text_classifier\n",
    "\n",
    "my_predictor = news_topic_text_classifier()"
   ]
  },
  {
   "cell_type": "code",
   "execution_count": 3,
   "metadata": {
    "pycharm": {
     "is_executing": false
    }
   },
   "outputs": [
    {
     "name": "stderr",
     "output_type": "stream",
     "text": [
      "INFO:root:Starting downloading of RSS Feed data. This may take some time.\n",
      "INFO:root:Aggregating RSS feeds: 1 out of 10\n",
      "INFO:root:Aggregating RSS feeds: 2 out of 10\n",
      "INFO:root:Aggregating RSS feeds: 3 out of 10\n",
      "INFO:root:Aggregating RSS feeds: 4 out of 10\n",
      "INFO:root:Aggregating RSS feeds: 5 out of 10\n",
      "INFO:root:Aggregating RSS feeds: 6 out of 10\n",
      "INFO:root:Aggregating RSS feeds: 7 out of 10\n",
      "INFO:root:Aggregating RSS feeds: 8 out of 10\n",
      "INFO:root:Aggregating RSS feeds: 9 out of 10\n",
      "INFO:root:Aggregating RSS feeds: 10 out of 10\n"
     ]
    }
   ],
   "source": [
    "my_predictor.create_data_set()"
   ]
  },
  {
   "cell_type": "code",
   "execution_count": 4,
   "metadata": {
    "pycharm": {
     "is_executing": false
    }
   },
   "outputs": [],
   "source": [
    "my_predictor.re_train()"
   ]
  },
  {
   "cell_type": "code",
   "execution_count": 5,
   "metadata": {
    "pycharm": {
     "is_executing": false
    }
   },
   "outputs": [
    {
     "data": {
      "text/plain": [
       "{'business',\n",
       " 'entertainment_and_arts',\n",
       " 'family_and_education',\n",
       " 'food_and_drink',\n",
       " 'health',\n",
       " 'politics',\n",
       " 'science_and_enviroment',\n",
       " 'sport',\n",
       " 'technology',\n",
       " 'travel'}"
      ]
     },
     "execution_count": 5,
     "metadata": {},
     "output_type": "execute_result"
    }
   ],
   "source": [
    "my_predictor.get_all_categories()"
   ]
  },
  {
   "cell_type": "code",
   "execution_count": 6,
   "metadata": {
    "pycharm": {
     "is_executing": false
    },
    "scrolled": true
   },
   "outputs": [
    {
     "data": {
      "image/png": "[encoded data removed]",
      "text/plain": [
       "<Figure size 576x432 with 1 Axes>"
      ]
     },
     "metadata": {
      "needs_background": "light"
     },
     "output_type": "display_data"
    }
   ],
   "source": [
    "fig = plt.figure(figsize=(8,6))\n",
    "my_predictor._data_frame.groupby('category').body.count().plot.bar(ylim=0)\n",
    "plt.show()"
   ]
  },
  {
   "cell_type": "code",
   "execution_count": 7,
   "metadata": {
    "pycharm": {
     "is_executing": false
    }
   },
   "outputs": [
    {
     "name": "stdout",
     "output_type": "stream",
     "text": [
      "# 'business':\n",
      "  . Top unigrams:\n",
      "       . cent\n",
      "       . business\n",
      "  . Top bigrams:\n",
      "       . bank england\n",
      "       . chief executive\n",
      "# 'entertainment_and_arts':\n",
      "  . Top unigrams:\n",
      "       . song\n",
      "       . film\n",
      "  . Top bigrams:\n",
      "       . rest life\n",
      "       . music video\n",
      "# 'family_and_education':\n",
      "  . Top unigrams:\n",
      "       . god\n",
      "       . child\n",
      "  . Top bigrams:\n",
      "       . reprint permission\n",
      "       . llc click\n",
      "# 'food_and_drink':\n",
      "  . Top unigrams:\n",
      "       . recipe\n",
      "       . marker\n",
      "  . Top bigrams:\n",
      "       . don think\n",
      "       . marks spencer\n",
      "# 'health':\n",
      "  . Top unigrams:\n",
      "       . dr\n",
      "       . coronavirus\n",
      "  . Top bigrams:\n",
      "       . coronavirus cases\n",
      "       . watching video\n",
      "# 'politics':\n",
      "  . Top unigrams:\n",
      "       . government\n",
      "       . labour\n",
      "  . Top bigrams:\n",
      "       . buzzfeed news\n",
      "       . told buzzfeed\n",
      "# 'science_and_enviroment':\n",
      "  . Top unigrams:\n",
      "       . climate\n",
      "       . study\n",
      "  . Top bigrams:\n",
      "       . climate change\n",
      "       . scroll video\n",
      "# 'sport':\n",
      "  . Top unigrams:\n",
      "       . players\n",
      "       . league\n",
      "  . Top bigrams:\n",
      "       . source cnn\n",
      "       . facebook messenger\n",
      "# 'technology':\n",
      "  . Top unigrams:\n",
      "       . google\n",
      "       . app\n",
      "  . Top bigrams:\n",
      "       . buzzfeed news\n",
      "       . company said\n",
      "# 'travel':\n",
      "  . Top unigrams:\n",
      "       . airlines\n",
      "       . trip\n",
      "  . Top bigrams:\n",
      "       . post lockdown\n",
      "       . countries world\n",
      "--------------------\n",
      "\n",
      "\n",
      "                        precision    recall  f1-score   support\n",
      "\n",
      "              business       0.98      0.98      0.98       124\n",
      "              politics       0.99      0.95      0.97       107\n",
      "                health       0.91      0.91      0.91       183\n",
      "  family_and_education       0.97      0.89      0.93        36\n",
      "science_and_enviroment       0.92      0.91      0.91       184\n",
      "            technology       0.92      0.94      0.93       170\n",
      "entertainment_and_arts       0.84      0.88      0.86       121\n",
      "                 sport       0.97      0.99      0.98        74\n",
      "                travel       1.00      0.93      0.97        89\n",
      "        food_and_drink       0.77      0.81      0.79        81\n",
      "\n",
      "              accuracy                           0.92      1169\n",
      "             macro avg       0.93      0.92      0.92      1169\n",
      "          weighted avg       0.92      0.92      0.92      1169\n",
      "\n"
     ]
    }
   ],
   "source": [
    "my_predictor.print_model_feature_data()"
   ]
  },
  {
   "cell_type": "code",
   "execution_count": 8,
   "metadata": {
    "pycharm": {
     "is_executing": false,
     "name": "#%%\n"
    }
   },
   "outputs": [
    {
     "data": {
      "image/png": "[encoded data removed]",
      "text/plain": [
       "<Figure size 720x720 with 2 Axes>"
      ]
     },
     "metadata": {
      "needs_background": "light"
     },
     "output_type": "display_data"
    }
   ],
   "source": [
    "from sklearn.metrics import confusion_matrix\n",
    "category_id_df = my_predictor._data_frame[['category', 'category_id']].drop_duplicates().sort_values('category_id')\n",
    "\n",
    "conf_mat = confusion_matrix(my_predictor._y_test, my_predictor._y_pred)\n",
    "fig, ax = plt.subplots(figsize=(10,10))\n",
    "sns.heatmap(conf_mat, annot=True, fmt='d',\n",
    "            xticklabels=category_id_df.category.values, yticklabels=category_id_df.category.values)\n",
    "plt.ylabel('Actual')\n",
    "plt.xlabel('Predicted')\n",
    "plt.show()"
   ]
  },
  {
   "cell_type": "code",
   "execution_count": 9,
   "metadata": {
    "pycharm": {
     "is_executing": false,
     "name": "#%%\n"
    }
   },
   "outputs": [
    {
     "name": "stdout",
     "output_type": "stream",
     "text": [
      "food_and_drink\n"
     ]
    }
   ],
   "source": [
    "print(my_predictor.get_category(\"When you’re watching your grocery budget, it’s handy to have a collection of great dinner recipes that cost $10 (or less) to make. It’s useful to know a few ways to make a meal from a few eggs and a can, how to turn an almost-empty peanut butter jar into sauce, and how to turn kale stems into a delicious dip instead of tossing them in the compost. But sometimes, no matter how great a recipe is, a meal just doesn’t feel complete without a side dish. After using Epi’s method for calculating recipe cost to price out a number of side dish recipes on this site, I learned that the most realistic way to keep side dishes affordable is to keep your ingredient list short. Depending on the season, your location, and other factors, your costs will vary. But luckily, a few ingredients are all you need to make a great side. Here are a few of our favorites around $5 dollars or less for four servings.\"))"
   ]
  },
  {
   "cell_type": "code",
   "execution_count": 10,
   "metadata": {
    "pycharm": {
     "is_executing": false,
     "name": "#%%\n"
    }
   },
   "outputs": [
    {
     "name": "stdout",
     "output_type": "stream",
     "text": [
      "health\n"
     ]
    }
   ],
   "source": [
    "print(my_predictor.get_category(\"The World Health Organization declared COVID-19 a pandemic 100 days ago on March 11. In a little more than three months, the coronavirus has infected more than 8.6 million people, and the death toll surpassed 458,000. The coronavirus, which causes the respiratory illness known as COVID-19, spread to nearly every continent, as doctors and nurses treat hundreds of patients per shift. Government officials scrambled to not only support their constituents, but also to implement ways to stem the rapidly spreading virus. Parts of the world plunged into unprecedented lockdowns, shuttering businesses and keeping people physically distant from one another, leading to economic decline. In the last few weeks, some restrictions have been lifted in a bid to restore normalcy in a pandemic-ridden world. But in light of reopening efforts, experts are concerned that the world could once again face the dark reality it faced at the early beginnings of the pandemic. In a matter of 100 days, the coronavirus has devastated populations around the world, and there doesn't yet seem to be an end in sight as scientists rush to develop a vaccine.\"))"
   ]
  },
  {
   "cell_type": "code",
   "execution_count": 11,
   "metadata": {
    "pycharm": {
     "is_executing": false
    }
   },
   "outputs": [
    {
     "name": "stdout",
     "output_type": "stream",
     "text": [
      "politics\n"
     ]
    }
   ],
   "source": [
    "print(my_predictor.get_category('Layla Moran says Sir Keir Starmer should be worried if she becomes the next leader of the Liberal Democrats, telling Business Insider that she wants to push the party to the political left and be \"even more radical than Labour.\" Moran, the Member of Parliament for Oxford West and Abingdon, said she wanted to \"fundamentally change how people perceive\" the Liberal Democrats after the partys disappointing performance at the last general election. The party, which went into the December election fighting to stop Brexit, failed to capitalize on strong polling earlier in the year, ending up with one fewer seat in the House of Commons and then-leader Jo Swinson losing her seat. The Liberal Democrats will elect a new leader at the end of August, with Moran competing with acting leader Ed Davey and MP Wera Hobhouse to rebuild the party after it failed in its mission to keep Britain in the European Union. In an interview with Business Insider, Moran said she wanted to turn the Liberal Democrats into a \"progressive, radical\" force on the left of British politics, and put the legacy of the partys time in the Coalition government with David Camerons Conservatives fully behind it. \"I want to take the Lib Dems back to our radical roots. I want us to be seen as more radical than Labour,\" she said.'))"
   ]
  },
  {
   "cell_type": "code",
   "execution_count": 12,
   "metadata": {
    "pycharm": {
     "is_executing": false
    }
   },
   "outputs": [
    {
     "name": "stdout",
     "output_type": "stream",
     "text": [
      "politics\n"
     ]
    }
   ],
   "source": [
    "print(my_predictor.get_category('European planemaker Airbus SE said on Friday it is extending furlough programs for 5,300 of its employees in Spain and the United Kingdom in its latest effort to cope with the impact of the coronavirus outbreak. \"This will be effective from 20th May till 30th September and affects all Airbus Operations SL employees in Spain (with some exceptions), which means around 3,100 employees\", an Airbus spokesman told Reuters in an emailed statement \"Airbus Helicopters and Airbus DS employees in Spain are not impacted\", the spokesman said. In the United Kingdom, the period of furlough for about 2,200 Airbus workers will start on July 20 and end on Aug. 9, the statement said. \"In France, all employees of the commercial aircraft division are in some way affected\", the spokesman said. He added about 29,500 employees in France were working on average about 30% shorter weeks. Sources told Reuters in May that Europes largest aerospace group was exploring restructuring plans involving the possibility of \"deep\" job cuts as it braced for a prolonged coronavirus crisis after furloughing thousands of workers.'))"
   ]
  }
 ],
 "metadata": {
  "kernelspec": {
   "display_name": "Python 3",
   "language": "python",
   "name": "python3"
  },
  "language_info": {
   "codemirror_mode": {
    "name": "ipython",
    "version": 3
   },
   "file_extension": ".py",
   "mimetype": "text/x-python",
   "name": "python",
   "nbconvert_exporter": "python",
   "pygments_lexer": "ipython3",
   "version": "3.7.6"
  },
  "pycharm": {
   "stem_cell": {
    "cell_type": "raw",
    "metadata": {
     "collapsed": false
    },
    "source": []
   }
  }
 },
 "nbformat": 4,
 "nbformat_minor": 1
}
